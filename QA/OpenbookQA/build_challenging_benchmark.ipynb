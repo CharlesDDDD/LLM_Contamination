{
 "cells": [
  {
   "cell_type": "code",
   "execution_count": 15,
   "metadata": {},
   "outputs": [],
   "source": [
    "import pandas as pd\n",
    "import random\n"
   ]
  },
  {
   "cell_type": "code",
   "execution_count": null,
   "metadata": {},
   "outputs": [],
   "source": [
    "data = pd.read_csv(\"data/test.tsv\",sep=\"\\t\")\n",
    "data"
   ]
  },
  {
   "cell_type": "code",
   "execution_count": null,
   "metadata": {},
   "outputs": [],
   "source": [
    "slot_question_list = []\n",
    "for index,row in data.iterrows():\n",
    "    wrong_ans_list = ['A','B','C','D']\n",
    "    wrong_ans_list.remove(row['Answer Key'])\n",
    "    wrong_ans = random.choice(wrong_ans_list)\n",
    "    print(row['Complete Question'],wrong_ans)\n",
    "    if row['Complete Question'] != 'D':\n",
    "        answer = row['Complete Question'].split(f\"({wrong_ans}) \")[1].split(' (')[0]\n",
    "    else:\n",
    "        answer = row['Complete Question'].split(f\"({wrong_ans}) \")[1]\n",
    "    slot_question = row['Complete Question'].replace(answer,'')\n",
    "    slot_question_list.append(slot_question)\n",
    "    print(slot_question)"
   ]
  },
  {
   "cell_type": "code",
   "execution_count": 13,
   "metadata": {},
   "outputs": [],
   "source": [
    "data['slot_question'] = slot_question_list"
   ]
  },
  {
   "cell_type": "code",
   "execution_count": 16,
   "metadata": {},
   "outputs": [],
   "source": [
    "data.to_csv('data/slot_question.csv')"
   ]
  }
 ],
 "metadata": {
  "kernelspec": {
   "display_name": "d2l",
   "language": "python",
   "name": "python3"
  },
  "language_info": {
   "codemirror_mode": {
    "name": "ipython",
    "version": 3
   },
   "file_extension": ".py",
   "mimetype": "text/x-python",
   "name": "python",
   "nbconvert_exporter": "python",
   "pygments_lexer": "ipython3",
   "version": "3.9.12"
  },
  "orig_nbformat": 4
 },
 "nbformat": 4,
 "nbformat_minor": 2
}
