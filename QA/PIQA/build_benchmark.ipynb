{
 "cells": [
  {
   "cell_type": "code",
   "execution_count": null,
   "metadata": {},
   "outputs": [],
   "source": [
    "import pandas as pd\n",
    "import json"
   ]
  },
  {
   "cell_type": "code",
   "execution_count": null,
   "metadata": {},
   "outputs": [],
   "source": [
    "# Replace 'data.jsonl' with the path to your JSONL file\n",
    "file_path = 'data/dev.jsonl'\n",
    "\n",
    "# Read the JSON Lines file into a list of dictionaries\n",
    "data = []\n",
    "with open(file_path, 'r') as file:\n",
    "    for line in file:\n",
    "        data.append(json.loads(line))\n",
    "\n",
    "# Convert the list of dictionaries to a DataFrame\n",
    "df = pd.DataFrame(data)\n",
    "\n",
    "df"
   ]
  },
  {
   "cell_type": "code",
   "execution_count": null,
   "metadata": {},
   "outputs": [],
   "source": [
    "file_path = 'data/dev-labels.lst'  # Replace this with the actual path to your file\n",
    "\n",
    "# Read the file\n",
    "with open(file_path, 'r') as file:\n",
    "    labels = file.readlines()\n",
    "\n",
    "# Display the labels\n",
    "label_list = []\n",
    "for label in labels:\n",
    "   label_list.append(label.strip())  # .strip() removes any leading/trailing whitespaces or newlines\n",
    "df['label'] = label_list"
   ]
  },
  {
   "cell_type": "code",
   "execution_count": null,
   "metadata": {},
   "outputs": [],
   "source": [
    "df['label'] = label_list\n",
    "df"
   ]
  },
  {
   "cell_type": "code",
   "execution_count": null,
   "metadata": {},
   "outputs": [],
   "source": [
    "from rouge_score import rouge_scorer\n",
    "scorer = rouge_scorer.RougeScorer(['rouge1','rouge2','rougeL'], use_stemmer=True)"
   ]
  },
  {
   "cell_type": "code",
   "execution_count": null,
   "metadata": {},
   "outputs": [],
   "source": [
    "slot_question = []\n",
    "slot_answer = []\n",
    "cnt = 0\n",
    "filtered_rows = []\n",
    "for index,row in df.iterrows():\n",
    "    wrong_ans_option = 'sol'+str(2 - int(row['label']))\n",
    "    wrong_ans = row[wrong_ans_option]\n",
    "    slot_question = row['goal']\n",
    "    rouge_score_tmp = scorer.score(row['sol1'],row['sol2'])\n",
    "    f_score_tmp = rouge_score_tmp['rougeL'].fmeasure\n",
    "    if (f_score_tmp)<=0.65:\n",
    "        filtered_rows.append(index)\n",
    "        cnt += 1\n",
    "print(cnt)"
   ]
  },
  {
   "cell_type": "code",
   "execution_count": null,
   "metadata": {},
   "outputs": [],
   "source": [
    "filtered_df = df.loc[filtered_rows]\n",
    "filtered_df.reset_index(drop=True, inplace=True)\n",
    "filtered_df "
   ]
  },
  {
   "cell_type": "code",
   "execution_count": null,
   "metadata": {},
   "outputs": [],
   "source": [
    "slot_question = []\n",
    "slot_answer = []\n",
    "cnt = 0\n",
    "for index,row in filtered_df.iterrows():\n",
    "    wrong_ans_option = 'sol'+str(2 - int(row['label']))\n",
    "    wrong_ans = row[wrong_ans_option]\n",
    "    slot_q = (row['goal']+'\\nsol1:'+row['sol1']+\"\\nsol2:\"+row['sol2']).replace(wrong_ans,\"\")\n",
    "    print(slot_q,\"|\",wrong_ans)\n",
    "    slot_question.append(slot_q)\n",
    "    slot_answer.append(wrong_ans)\n",
    "    "
   ]
  },
  {
   "cell_type": "code",
   "execution_count": 22,
   "metadata": {},
   "outputs": [],
   "source": [
    "filtered_df['slot_question'] = slot_question\n",
    "filtered_df['slot_answer'] = slot_answer\n",
    "filtered_df.to_csv(\"data/mc.csv\")"
   ]
  }
 ],
 "metadata": {
  "kernelspec": {
   "display_name": "d2l",
   "language": "python",
   "name": "python3"
  },
  "language_info": {
   "codemirror_mode": {
    "name": "ipython",
    "version": 3
   },
   "file_extension": ".py",
   "mimetype": "text/x-python",
   "name": "python",
   "nbconvert_exporter": "python",
   "pygments_lexer": "ipython3",
   "version": "3.9.12"
  },
  "orig_nbformat": 4
 },
 "nbformat": 4,
 "nbformat_minor": 2
}
